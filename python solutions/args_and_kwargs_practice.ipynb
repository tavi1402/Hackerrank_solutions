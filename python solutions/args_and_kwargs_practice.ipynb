{
 "cells": [
  {
   "cell_type": "code",
   "execution_count": 9,
   "metadata": {},
   "outputs": [],
   "source": [
    "def function1(*args):\n",
    "    print(type(args))\n",
    "    if(len(args) == 3):\n",
    "        print(\"the name of the student is \", args[0], \"and age is \", args[1], \" and rollno is \", args[2])\n",
    "\n",
    "    else:\n",
    "        print(\"the name of the student is \", args[0], \"and age is \", args[1])\n"
   ]
  },
  {
   "cell_type": "code",
   "execution_count": 11,
   "metadata": {},
   "outputs": [
    {
     "name": "stdout",
     "output_type": "stream",
     "text": [
      "<class 'tuple'>\n",
      "the name of the student is  kartik and age is  23\n"
     ]
    }
   ],
   "source": [
    "function1(\"kartik\", 23)"
   ]
  },
  {
   "cell_type": "code",
   "execution_count": 14,
   "metadata": {},
   "outputs": [
    {
     "name": "stdout",
     "output_type": "stream",
     "text": [
      "<class 'tuple'>\n",
      "the name of the student is  kartik and age is  24  and rollno is  34567\n"
     ]
    }
   ],
   "source": [
    "lis = [\"kartik\", 24, 34567]\n",
    "function1(*lis)"
   ]
  },
  {
   "cell_type": "code",
   "execution_count": 15,
   "metadata": {},
   "outputs": [],
   "source": [
    "def function2(**kwargs):\n",
    "    print(type(kwargs))\n",
    "    for key, value in kwargs.items():\n",
    "        print(key, value)\n",
    "\n"
   ]
  },
  {
   "cell_type": "code",
   "execution_count": 16,
   "metadata": {},
   "outputs": [],
   "source": [
    "marklist = {\"kartik\": 100,\n",
    "            \"anshuman\": 99,\n",
    "            \"raju\": 32,\n",
    "            \"rahul\": 34,\n",
    "            \"vinni\": 45 }"
   ]
  },
  {
   "cell_type": "code",
   "execution_count": 17,
   "metadata": {},
   "outputs": [
    {
     "name": "stdout",
     "output_type": "stream",
     "text": [
      "<class 'dict'>\n",
      "kartik 100\n",
      "anshuman 99\n",
      "raju 32\n",
      "rahul 34\n",
      "vinni 45\n"
     ]
    }
   ],
   "source": [
    "function2(**marklist)"
   ]
  },
  {
   "cell_type": "markdown",
   "metadata": {},
   "source": [
    "### Question:\n",
    "You are given a list of integers. write a function to return the sum of all even integers in the list and give a list of all odd integers\n",
    "\n",
    "- Input:\n",
    "  - my_list = [1, 2, 3, 4, 5, 6, 7, 8, 9, 10]\n",
    "\n",
    "- Expected Output:\n",
    "  - Sum of even integers: 30\n",
    "  - List of odd integers: [1, 3, 5, 7, 9]"
   ]
  },
  {
   "cell_type": "code",
   "execution_count": 20,
   "metadata": {},
   "outputs": [],
   "source": [
    "my_list = [int(i) for i in input().split()]"
   ]
  },
  {
   "cell_type": "code",
   "execution_count": 21,
   "metadata": {},
   "outputs": [
    {
     "name": "stdout",
     "output_type": "stream",
     "text": [
      "[1, 2, 3, 4, 5, 6, 7, 8, 9, 10]\n"
     ]
    }
   ],
   "source": [
    "print(my_list)"
   ]
  },
  {
   "cell_type": "code",
   "execution_count": 22,
   "metadata": {},
   "outputs": [],
   "source": [
    "def sum_even_and_odd(*args):\n",
    "    sum_even = 0\n",
    "    list_odd = []\n",
    "\n",
    "    for n in args:\n",
    "        if n%2 == 0:\n",
    "            sum_even += n\n",
    "        else:\n",
    "            list_odd.append(n)\n",
    "\n",
    "    return sum_even, list_odd"
   ]
  },
  {
   "cell_type": "code",
   "execution_count": 25,
   "metadata": {},
   "outputs": [
    {
     "name": "stdout",
     "output_type": "stream",
     "text": [
      "30\n"
     ]
    }
   ],
   "source": [
    "sum_even, list_odd  = sum_even_and_odd(*my_list)\n"
   ]
  },
  {
   "cell_type": "code",
   "execution_count": 26,
   "metadata": {},
   "outputs": [
    {
     "name": "stdout",
     "output_type": "stream",
     "text": [
      "30\n",
      "[1, 3, 5, 7, 9]\n"
     ]
    }
   ],
   "source": [
    "print(sum_even)\n",
    "print(list_odd)"
   ]
  },
  {
   "cell_type": "code",
   "execution_count": null,
   "metadata": {},
   "outputs": [],
   "source": []
  }
 ],
 "metadata": {
  "kernelspec": {
   "display_name": "Python 3",
   "language": "python",
   "name": "python3"
  },
  "language_info": {
   "codemirror_mode": {
    "name": "ipython",
    "version": 3
   },
   "file_extension": ".py",
   "mimetype": "text/x-python",
   "name": "python",
   "nbconvert_exporter": "python",
   "pygments_lexer": "ipython3",
   "version": "3.11.5"
  }
 },
 "nbformat": 4,
 "nbformat_minor": 2
}
